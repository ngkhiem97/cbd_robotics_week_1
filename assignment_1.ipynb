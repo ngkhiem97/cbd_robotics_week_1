{
 "cells": [
  {
   "cell_type": "code",
   "execution_count": 20,
   "metadata": {},
   "outputs": [],
   "source": [
    "import random"
   ]
  },
  {
   "cell_type": "code",
   "execution_count": 21,
   "metadata": {},
   "outputs": [
    {
     "name": "stdout",
     "output_type": "stream",
     "text": [
      "Do ye like yer drinks strong? [Y/n]: n\n",
      "Do ye like it with a salty tang? [Y/n]: n\n",
      "Are ye a lubber who likes it bitter? [Y/n]: Y\n",
      "Would ye like a bit of sweetness with yer poison? [Y/n]: \n",
      "Are ye one for a fruity finish? [Y/n]: a\n"
     ]
    }
   ],
   "source": [
    "questions = {\n",
    "    \"strong\": \"Do ye like yer drinks strong?\",\n",
    "    \"salty\": \"Do ye like it with a salty tang?\",\n",
    "    \"bitter\": \"Are ye a lubber who likes it bitter?\",\n",
    "    \"sweet\": \"Would ye like a bit of sweetness with yer poison?\",\n",
    "    \"fruity\": \"Are ye one for a fruity finish?\",\n",
    "}\n",
    "\n",
    "# get the answers from user input\n",
    "answers = {}\n",
    "for taste in questions:\n",
    "    answers[taste] = input(questions[taste] + \" [Y/n]: \")"
   ]
  },
  {
   "cell_type": "code",
   "execution_count": 25,
   "metadata": {},
   "outputs": [
    {
     "name": "stdout",
     "output_type": "stream",
     "text": [
      "Your ingredients are:\n",
      "splash of tonic\n",
      "spash of cola\n",
      "slice of orange\n"
     ]
    }
   ],
   "source": [
    "ingredients = {\n",
    "    \"strong\": [\"glug of rum\", \"slug of whisky\", \"splash of gin\"],\n",
    "    \"salty\": [\"olive on a stick\", \"salt-dusted rim\", \"rasher of bacon\"],\n",
    "    \"bitter\": [\"shake of bitters\", \"splash of tonic\", \"twist of lemon peel\"],\n",
    "    \"sweet\": [\"sugar cube\", \"spoonful of honey\", \"spash of cola\"],\n",
    "    \"fruity\": [\"slice of orange\", \"dash of cassis\", \"cherry on top\"],\n",
    "}\n",
    "\n",
    "print(\"Your ingredients are:\")\n",
    "for taste in ingredients:\n",
    "    if answers[taste].upper() != \"N\":\n",
    "        choice = random.randint(0, 2)\n",
    "        print(ingredients[taste][choice])"
   ]
  }
 ],
 "metadata": {
  "kernelspec": {
   "display_name": "Python 3",
   "language": "python",
   "name": "python3"
  },
  "language_info": {
   "codemirror_mode": {
    "name": "ipython",
    "version": 3
   },
   "file_extension": ".py",
   "mimetype": "text/x-python",
   "name": "python",
   "nbconvert_exporter": "python",
   "pygments_lexer": "ipython3",
   "version": "3.6.9"
  }
 },
 "nbformat": 4,
 "nbformat_minor": 4
}
